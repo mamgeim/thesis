{
 "cells": [
  {
   "cell_type": "markdown",
   "id": "22229bff",
   "metadata": {},
   "source": [
    "# Fitting an ARIMA_GARCH Model for a Time Series of Close Prices"
   ]
  },
  {
   "cell_type": "markdown",
   "id": "522bca7e",
   "metadata": {},
   "source": [
    "Author: Moritz Ahl \n",
    "\n",
    "Date: January 2022\n",
    "\n",
    "Software: Windows 10, Python 3.9, Jupyter Notebook 6.4.5"
   ]
  },
  {
   "cell_type": "markdown",
   "id": "67c3b4cf",
   "metadata": {},
   "source": [
    "- This notebook fits a combined ARIMA-GARCH model to a financial time series. The time series is a return series of the German DAX index. \n",
    "- The data is downloaded using Yahoo!Finance.\n",
    "- First, an ARIMA model is fitted, followed by a GARCH model to capture the residuals of the ARIMA process.\n",
    "- Inspired by https://medium.com/analytics-vidhya/arima-garch-forecasting-with-python-7a3f797de3ff."
   ]
  },
  {
   "cell_type": "markdown",
   "id": "f9505bfb",
   "metadata": {},
   "source": [
    "We aim at fitting an ARIMA-GARCH model. Recall that this model is given by \n",
    "\n",
    "\\begin{equation*}\n",
    "\\begin{aligned}\n",
    "X_t &= \\sum_{i=1}^p \\Phi_i X_{t-i} + \\sum_{i=1}^q \\theta_i \\epsilon_{t-i} + \\epsilon_t, \\\\\n",
    "\\epsilon_t &= \\sigma_t e_t, \\\\\n",
    "\\sigma_t^2 &= \\alpha_0 + \\sum_{i=1}^{p'} \\alpha_i \\epsilon_{t-i}^2 + \\sum_{j=1}^{q'} \\beta_j \\sigma_{t-j}^2.\n",
    "\\end{aligned}\n",
    "\\end{equation*}"
   ]
  },
  {
   "cell_type": "code",
   "execution_count": 2,
   "id": "d5c5c294",
   "metadata": {},
   "outputs": [],
   "source": [
    "#Load standard packages \n",
    "import numpy as np\n",
    "import matplotlib.pyplot as plt\n",
    "from datetime import datetime \n",
    "import time\n",
    "import pandas as pd\n",
    "\n",
    "#Load Yahoo!Finance for download of market data\n",
    "import yfinance as yf"
   ]
  },
  {
   "cell_type": "markdown",
   "id": "33b04404",
   "metadata": {},
   "source": [
    "First, we download a time series which we want to fit to the ARIMA-GARCH model.\n",
    "\n",
    "Here, we choose the famous S&P500 index and will focus on the close prices starting in 2005."
   ]
  },
  {
   "cell_type": "code",
   "execution_count": 3,
   "id": "7a69b18b",
   "metadata": {},
   "outputs": [
    {
     "name": "stdout",
     "output_type": "stream",
     "text": [
      "[*********************100%***********************]  1 of 1 completed\n"
     ]
    },
    {
     "data": {
      "text/html": [
       "<div>\n",
       "<style scoped>\n",
       "    .dataframe tbody tr th:only-of-type {\n",
       "        vertical-align: middle;\n",
       "    }\n",
       "\n",
       "    .dataframe tbody tr th {\n",
       "        vertical-align: top;\n",
       "    }\n",
       "\n",
       "    .dataframe thead th {\n",
       "        text-align: right;\n",
       "    }\n",
       "</style>\n",
       "<table border=\"1\" class=\"dataframe\">\n",
       "  <thead>\n",
       "    <tr style=\"text-align: right;\">\n",
       "      <th></th>\n",
       "      <th>Open</th>\n",
       "      <th>High</th>\n",
       "      <th>Low</th>\n",
       "      <th>Close</th>\n",
       "      <th>Adj Close</th>\n",
       "      <th>Volume</th>\n",
       "    </tr>\n",
       "    <tr>\n",
       "      <th>Date</th>\n",
       "      <th></th>\n",
       "      <th></th>\n",
       "      <th></th>\n",
       "      <th></th>\n",
       "      <th></th>\n",
       "      <th></th>\n",
       "    </tr>\n",
       "  </thead>\n",
       "  <tbody>\n",
       "    <tr>\n",
       "      <th>2004-12-31</th>\n",
       "      <td>1213.550049</td>\n",
       "      <td>1217.329956</td>\n",
       "      <td>1211.650024</td>\n",
       "      <td>1211.920044</td>\n",
       "      <td>1211.920044</td>\n",
       "      <td>786900000</td>\n",
       "    </tr>\n",
       "    <tr>\n",
       "      <th>2005-01-03</th>\n",
       "      <td>1211.920044</td>\n",
       "      <td>1217.800049</td>\n",
       "      <td>1200.319946</td>\n",
       "      <td>1202.079956</td>\n",
       "      <td>1202.079956</td>\n",
       "      <td>1510800000</td>\n",
       "    </tr>\n",
       "    <tr>\n",
       "      <th>2005-01-04</th>\n",
       "      <td>1202.079956</td>\n",
       "      <td>1205.839966</td>\n",
       "      <td>1185.390015</td>\n",
       "      <td>1188.050049</td>\n",
       "      <td>1188.050049</td>\n",
       "      <td>1721000000</td>\n",
       "    </tr>\n",
       "    <tr>\n",
       "      <th>2005-01-05</th>\n",
       "      <td>1188.050049</td>\n",
       "      <td>1192.729980</td>\n",
       "      <td>1183.719971</td>\n",
       "      <td>1183.739990</td>\n",
       "      <td>1183.739990</td>\n",
       "      <td>1738900000</td>\n",
       "    </tr>\n",
       "    <tr>\n",
       "      <th>2005-01-06</th>\n",
       "      <td>1183.739990</td>\n",
       "      <td>1191.630005</td>\n",
       "      <td>1183.270020</td>\n",
       "      <td>1187.890015</td>\n",
       "      <td>1187.890015</td>\n",
       "      <td>1569100000</td>\n",
       "    </tr>\n",
       "    <tr>\n",
       "      <th>...</th>\n",
       "      <td>...</td>\n",
       "      <td>...</td>\n",
       "      <td>...</td>\n",
       "      <td>...</td>\n",
       "      <td>...</td>\n",
       "      <td>...</td>\n",
       "    </tr>\n",
       "    <tr>\n",
       "      <th>2021-09-24</th>\n",
       "      <td>4438.040039</td>\n",
       "      <td>4463.120117</td>\n",
       "      <td>4430.270020</td>\n",
       "      <td>4455.479980</td>\n",
       "      <td>4455.479980</td>\n",
       "      <td>2772090000</td>\n",
       "    </tr>\n",
       "    <tr>\n",
       "      <th>2021-09-27</th>\n",
       "      <td>4442.120117</td>\n",
       "      <td>4457.299805</td>\n",
       "      <td>4436.189941</td>\n",
       "      <td>4443.109863</td>\n",
       "      <td>4443.109863</td>\n",
       "      <td>3032870000</td>\n",
       "    </tr>\n",
       "    <tr>\n",
       "      <th>2021-09-28</th>\n",
       "      <td>4419.540039</td>\n",
       "      <td>4419.540039</td>\n",
       "      <td>4346.330078</td>\n",
       "      <td>4352.629883</td>\n",
       "      <td>4352.629883</td>\n",
       "      <td>3495970000</td>\n",
       "    </tr>\n",
       "    <tr>\n",
       "      <th>2021-09-29</th>\n",
       "      <td>4362.410156</td>\n",
       "      <td>4385.569824</td>\n",
       "      <td>4355.080078</td>\n",
       "      <td>4359.459961</td>\n",
       "      <td>4359.459961</td>\n",
       "      <td>2753800000</td>\n",
       "    </tr>\n",
       "    <tr>\n",
       "      <th>2021-09-30</th>\n",
       "      <td>4370.669922</td>\n",
       "      <td>4382.549805</td>\n",
       "      <td>4306.240234</td>\n",
       "      <td>4307.540039</td>\n",
       "      <td>4307.540039</td>\n",
       "      <td>3123770000</td>\n",
       "    </tr>\n",
       "  </tbody>\n",
       "</table>\n",
       "<p>4217 rows × 6 columns</p>\n",
       "</div>"
      ],
      "text/plain": [
       "                   Open         High          Low        Close    Adj Close  \\\n",
       "Date                                                                          \n",
       "2004-12-31  1213.550049  1217.329956  1211.650024  1211.920044  1211.920044   \n",
       "2005-01-03  1211.920044  1217.800049  1200.319946  1202.079956  1202.079956   \n",
       "2005-01-04  1202.079956  1205.839966  1185.390015  1188.050049  1188.050049   \n",
       "2005-01-05  1188.050049  1192.729980  1183.719971  1183.739990  1183.739990   \n",
       "2005-01-06  1183.739990  1191.630005  1183.270020  1187.890015  1187.890015   \n",
       "...                 ...          ...          ...          ...          ...   \n",
       "2021-09-24  4438.040039  4463.120117  4430.270020  4455.479980  4455.479980   \n",
       "2021-09-27  4442.120117  4457.299805  4436.189941  4443.109863  4443.109863   \n",
       "2021-09-28  4419.540039  4419.540039  4346.330078  4352.629883  4352.629883   \n",
       "2021-09-29  4362.410156  4385.569824  4355.080078  4359.459961  4359.459961   \n",
       "2021-09-30  4370.669922  4382.549805  4306.240234  4307.540039  4307.540039   \n",
       "\n",
       "                Volume  \n",
       "Date                    \n",
       "2004-12-31   786900000  \n",
       "2005-01-03  1510800000  \n",
       "2005-01-04  1721000000  \n",
       "2005-01-05  1738900000  \n",
       "2005-01-06  1569100000  \n",
       "...                ...  \n",
       "2021-09-24  2772090000  \n",
       "2021-09-27  3032870000  \n",
       "2021-09-28  3495970000  \n",
       "2021-09-29  2753800000  \n",
       "2021-09-30  3123770000  \n",
       "\n",
       "[4217 rows x 6 columns]"
      ]
     },
     "execution_count": 3,
     "metadata": {},
     "output_type": "execute_result"
    }
   ],
   "source": [
    "#Download daily data of S&P500 index for a given period using Yahoo!Finance\n",
    "start = '2005-1-1'\n",
    "end = '2021-10-1'\n",
    "end_act = '2021-9-30'\n",
    "df = yf.download(tickers='^GSPC', start=start, end=end, interval='1d') #^GDAXI\n",
    "\n",
    "#Print data frame\n",
    "df"
   ]
  },
  {
   "cell_type": "markdown",
   "id": "c7a874d6",
   "metadata": {},
   "source": [
    "Let's define a function which prepares the data by computing the log returns and splitting the set into subsets for the fitting and the validation process. "
   ]
  },
  {
   "cell_type": "code",
   "execution_count": 4,
   "id": "feaf88fd",
   "metadata": {},
   "outputs": [],
   "source": [
    "def data_prepare(df, ratio=0.8, plot=True):\n",
    "    '''This function prepares the data by extracting the close and the dates.\n",
    "    Log returns are computed. Then the data is split into set used for fitting \n",
    "    and a set used for validating. The close is plotted if Boolian is set True.\n",
    "    df is a dataframe downloaded from Yahoo!Finance and ratio is a float between\n",
    "    0 and 1. The output are arrays of returns and dates for the two data sets.'''\n",
    "    \n",
    "    #Extract the close prices and reshape them into 2d-array\n",
    "    data = np.array(df['Close'].values)\n",
    "    data = data.reshape((len(data),1))\n",
    "    data = data.astype('float32')\n",
    "    \n",
    "    #Extract dates and reshape them\n",
    "    dates = np.array(df.index)\n",
    "    dates = dates.reshape((len(dates),1))\n",
    "\n",
    "    #Compute log returns\n",
    "    z = np.array([0])\n",
    "    z = z.reshape((1,1))\n",
    "    ret = np.concatenate((z,np.log(data[1:]/data[:-1])))\n",
    "    ret_abs = abs(ret)\n",
    "    \n",
    "    #Split data set\n",
    "    to_split = ret #data\n",
    "    perc = 0.8\n",
    "    fit_size = int(len(to_split) * ratio)\n",
    "    validation_size = len(to_split) - fit_size\n",
    "\n",
    "    fit, validation = to_split[0:fit_size,:], to_split[(fit_size-1):len(ret),:]\n",
    "    dates_fit, dates_validation = dates[0:fit_size,:], dates[(fit_size-1):len(ret),:]\n",
    "\n",
    "    #Plot and indicate different sets with colors\n",
    "    if plot:\n",
    "        fig, ax = plt.subplots()\n",
    "        ax.plot_date(dates_fit,fit,lw=.35,marker='', linestyle='-',label='Fit') \n",
    "        ax.plot_date(dates_validation,validation,lw=.35,color='r',marker='', linestyle='-',label='Validation')\n",
    "        print('Close Price for S&P500 Index from {} to {}'.format(start,end_act))\n",
    "        plt.legend()\n",
    "        fig.autofmt_xdate()\n",
    "        plt.savefig('C:/Users/morit/Documents/Studium/Master-Arbeit 2021/Master Thesis TeX/figures/ReturnSP500.pdf')\n",
    "        plt.show()\n",
    "    \n",
    "    #Determine end date of fitting period\n",
    "    y = dates_validation[0][0]\n",
    "    date1 = datetime.utcfromtimestamp(y.astype('O')/1e9)\n",
    "    print(f'End of Fitting Period: {date1.date()}')\n",
    "    \n",
    "    return fit, validation, dates_fit, dates_validation\n",
    "    "
   ]
  },
  {
   "cell_type": "markdown",
   "id": "8e7d743c",
   "metadata": {},
   "source": [
    "Let's run the data preparation for our data and see the plot:"
   ]
  },
  {
   "cell_type": "code",
   "execution_count": 5,
   "id": "5c09308e",
   "metadata": {},
   "outputs": [
    {
     "name": "stdout",
     "output_type": "stream",
     "text": [
      "Close Price for S&P500 Index from 2005-1-1 to 2021-9-30\n"
     ]
    },
    {
     "data": {
      "image/png": "[encoded data removed]",
      "text/plain": [
       "<Figure size 432x288 with 1 Axes>"
      ]
     },
     "metadata": {
      "needs_background": "light"
     },
     "output_type": "display_data"
    },
    {
     "name": "stdout",
     "output_type": "stream",
     "text": [
      "End of Fitting Period: 2018-05-24\n"
     ]
    }
   ],
   "source": [
    "# call data preparation\n",
    "fit, validation, dates_fit, dates_validation = data_prepare(df)"
   ]
  },
  {
   "cell_type": "markdown",
   "id": "e4349bc1",
   "metadata": {},
   "source": [
    "We now define a function which performs the Augmented Dickey-Fuller test for stationarity and prints the results.\n",
    "\n",
    "Furthermore, the function returns information if the Null hypothesis that the time series is non-stationary can be rejected or not. If the ADF statistic obtained is less than the critical value at a significance level (we choose 0.05) and the p-value is less than the significance level, we reject the Null and the time series is stationary."
   ]
  },
  {
   "cell_type": "code",
   "execution_count": 6,
   "id": "cc0287e1",
   "metadata": {},
   "outputs": [],
   "source": [
    "#Load ADF test\n",
    "from statsmodels.tsa.stattools import adfuller\n",
    "\n",
    "def ADF_test(data):\n",
    "    '''This function performs the ADF test for a data set to verify if it is \n",
    "    stationary. The input is an nx1-dimensional array containing e.g. close \n",
    "    or return data. The function prints the results of the ADF test and returns\n",
    "    a Boolian for passing or failing the test.'''\n",
    "    #Set our confidence level 5%\n",
    "    alpha = 0.05\n",
    "    #Perform test for alpha = 0.01, 0.05, 0.1\n",
    "    #Choosing autolag='AIC' means that the number of lags is chosen such that \n",
    "    #the AIC is minimized.\n",
    "    result = adfuller(data, autolag='AIC')\n",
    "    \n",
    "    #Store and print test results \n",
    "    ADF_stat = result[0]\n",
    "    print(f'ADF Statistic: {result[0]}')\n",
    "    #print(f'n_lags: {result[1]}')\n",
    "    p_value = result[1]\n",
    "    print(f'p-value: {result[1]}')\n",
    "    \n",
    "    #Extract and print critical values\n",
    "    for key, value in result[4].items():\n",
    "        print('Critial Values:')\n",
    "        print(f'   {key}, {value}') \n",
    "    crit_values = result[4]\n",
    "    crit_5 = crit_values[\"5%\"]\n",
    "    \n",
    "    #Test Null hypothesis\n",
    "    #If statistic lower than critical value and p-value small, we reject the Null\n",
    "    if ADF_stat < crit_5 and p_value < alpha:\n",
    "        failed = False\n",
    "        print('\\nThe data passed the ADF test, i.e. the Null is rejected and the time series is stationary.\\n')\n",
    "    else:\n",
    "        failed = True\n",
    "        print('\\nThe data failed the ADF test, i.e. the Null cannot be rejected and the time series is non-stationary.\\n')\n",
    "            \n",
    "    return failed\n"
   ]
  },
  {
   "cell_type": "markdown",
   "id": "151fb450",
   "metadata": {},
   "source": [
    "We call this function with our data serving as the input:"
   ]
  },
  {
   "cell_type": "code",
   "execution_count": 7,
   "id": "1eed0d09",
   "metadata": {},
   "outputs": [
    {
     "name": "stdout",
     "output_type": "stream",
     "text": [
      "ADF Statistic: -12.342794376992536\n",
      "p-value: 6.065349280452969e-23\n",
      "Critial Values:\n",
      "   1%, -3.4323029442926765\n",
      "Critial Values:\n",
      "   5%, -2.862402896767871\n",
      "Critial Values:\n",
      "   10%, -2.567229336991118\n",
      "\n",
      "The data passed the ADF test, i.e. the Null is rejected and the time series is stationary.\n",
      "\n"
     ]
    }
   ],
   "source": [
    "# call ADF test to test for stationarity\n",
    "failed = ADF_test(fit) "
   ]
  },
  {
   "cell_type": "markdown",
   "id": "dd51f605",
   "metadata": {},
   "source": [
    "If the data is not stationary according to the ADF test, we need to apply differenciation to try to make it stationary. \n",
    "\n",
    "We do so by differencing as follows\n",
    "\\begin{equation*}\n",
    "\\tilde{X}_t = X_t - X_{t-1}\n",
    "\\end{equation*}\n",
    "\n",
    "and define a function to perform this procedure."
   ]
  },
  {
   "cell_type": "code",
   "execution_count": 8,
   "id": "3bcb5993",
   "metadata": {},
   "outputs": [],
   "source": [
    "def diff_data(data):\n",
    "    '''This function takes an array as its input and generates a new array \n",
    "    containing the differentiated time series.'''\n",
    "    #Create 1x1 array of zero to concatenate to the actual differenciated array\n",
    "    #Reason: new array should have same dimensionality as input array \n",
    "    z = np.array([0])\n",
    "    z = z.reshape((1,1))\n",
    "    \n",
    "    #Differenciate according to above formula\n",
    "    diff_data = np.concatenate((z,data[1:] - data[:-1]))\n",
    "    \n",
    "    return diff_data"
   ]
  },
  {
   "cell_type": "markdown",
   "id": "eb9d48c5",
   "metadata": {},
   "source": [
    "Next, the data is differentiated as often as needed to make it stationary according to the ADF test. A for-loop takes care of this, where we set a maximum order of differentiations allowed: $d_{max} = 5$"
   ]
  },
  {
   "cell_type": "code",
   "execution_count": 9,
   "id": "e692349b",
   "metadata": {},
   "outputs": [],
   "source": [
    "# set maximum order of differentiation\n",
    "d_max = 5\n",
    "\n",
    "# initial order of differentiation\n",
    "d = 0 \n",
    "\n",
    "# save original data for later use\n",
    "fit_init = fit "
   ]
  },
  {
   "cell_type": "code",
   "execution_count": 10,
   "id": "fd7f2036",
   "metadata": {},
   "outputs": [
    {
     "name": "stdout",
     "output_type": "stream",
     "text": [
      "\n",
      "The final order of differentiation is given by d = 0.\n"
     ]
    }
   ],
   "source": [
    "# if test is failed, differentiate and repeat the test until successful \n",
    "# or maximum of d_max differentiations have been completed \n",
    "if failed:\n",
    "    while failed and d <= d_max:\n",
    "        d += 1\n",
    "        print(f'\\nDifferentiation {d}: \\n')\n",
    "        fit = diff_data(fit)\n",
    "        failed = ADF_test(fit)\n",
    "        if failed and d == d_max:\n",
    "            print(f'\\nUnable to make data stationary within {d_max} differntiations!')\n",
    "            break\n",
    "    \n",
    "# print order of differentiation\n",
    "print(f'\\nThe final order of differentiation is given by d = {d}.')"
   ]
  },
  {
   "cell_type": "markdown",
   "id": "4ad4b9de",
   "metadata": {},
   "source": [
    "Note that by processing the log returns we have already differentiated the initial data once. "
   ]
  },
  {
   "cell_type": "markdown",
   "id": "4b7e29cb",
   "metadata": {},
   "source": [
    "The function auto_arima included in the package pmdarima enables us to quickly find the best fitting model including automatic search for the orders based on the Akaike Information Criterion (AIC). This function fits a seasonal ARIMA model, but the seasonalities could be left auto by setting seasonal=False. Moreover, we set trace=True to see the steps of finding the optimal model and stationary=True to take into account that we already made the time series stationary. It would also be possible to limit the orders of the model. \n",
    "\n",
    "The whole documentation can be found here: https://alkaline-ml.com/pmdarima/modules/generated/pmdarima.arima.auto_arima.html."
   ]
  },
  {
   "cell_type": "code",
   "execution_count": 11,
   "id": "8153728b",
   "metadata": {},
   "outputs": [
    {
     "name": "stdout",
     "output_type": "stream",
     "text": [
      "Performing stepwise search to minimize aic\n",
      " ARIMA(2,0,2)(0,0,0)[0] intercept   : AIC=-20375.754, Time=3.61 sec\n",
      " ARIMA(0,0,0)(0,0,0)[0] intercept   : AIC=-20329.722, Time=1.04 sec\n",
      " ARIMA(1,0,0)(0,0,0)[0] intercept   : AIC=-20361.524, Time=0.71 sec\n",
      " ARIMA(0,0,1)(0,0,0)[0] intercept   : AIC=-20366.197, Time=2.01 sec\n",
      " ARIMA(0,0,0)(0,0,0)[0]             : AIC=-20330.339, Time=0.46 sec\n",
      " ARIMA(1,0,2)(0,0,0)[0] intercept   : AIC=-20375.843, Time=1.27 sec\n",
      " ARIMA(0,0,2)(0,0,0)[0] intercept   : AIC=-20375.145, Time=2.32 sec\n",
      " ARIMA(1,0,1)(0,0,0)[0] intercept   : AIC=-20370.792, Time=2.14 sec\n",
      " ARIMA(1,0,3)(0,0,0)[0] intercept   : AIC=-20374.405, Time=1.09 sec\n",
      " ARIMA(0,0,3)(0,0,0)[0] intercept   : AIC=-20375.775, Time=2.80 sec\n",
      " ARIMA(2,0,1)(0,0,0)[0] intercept   : AIC=-20376.973, Time=1.67 sec\n",
      " ARIMA(2,0,0)(0,0,0)[0] intercept   : AIC=-20377.073, Time=4.60 sec\n",
      " ARIMA(3,0,0)(0,0,0)[0] intercept   : AIC=-20377.448, Time=1.40 sec\n",
      " ARIMA(4,0,0)(0,0,0)[0] intercept   : AIC=-20376.634, Time=1.05 sec\n",
      " ARIMA(3,0,1)(0,0,0)[0] intercept   : AIC=-20375.229, Time=5.82 sec\n",
      " ARIMA(4,0,1)(0,0,0)[0] intercept   : AIC=-20374.936, Time=3.30 sec\n",
      " ARIMA(3,0,0)(0,0,0)[0]             : AIC=-20377.600, Time=0.58 sec\n",
      " ARIMA(2,0,0)(0,0,0)[0]             : AIC=-20377.120, Time=0.47 sec\n",
      " ARIMA(4,0,0)(0,0,0)[0]             : AIC=-20376.716, Time=1.76 sec\n",
      " ARIMA(3,0,1)(0,0,0)[0]             : AIC=-20375.385, Time=1.74 sec\n",
      " ARIMA(2,0,1)(0,0,0)[0]             : AIC=-20377.024, Time=0.58 sec\n",
      " ARIMA(4,0,1)(0,0,0)[0]             : AIC=-20375.000, Time=1.63 sec\n",
      "\n",
      "Best model:  ARIMA(3,0,0)(0,0,0)[0]          \n",
      "Total fit time: 42.054 seconds\n"
     ]
    }
   ],
   "source": [
    "# import function which automatically fits the best seasonal ARIMA model\n",
    "# !pip3 install pyramid-arima\n",
    "from pmdarima import auto_arima\n",
    "\n",
    "# set maximum orders for p and q \n",
    "max_p = 5\n",
    "max_q = 5\n",
    "\n",
    "# determine orders and fit parameters     \n",
    "fitted_arima_model = auto_arima(fit, information_criterion='aic', max_p=max_p, max_q=max_q, trace=True, stationary=True, seasonal=False)\n",
    "p, d2, q = fitted_arima_model.order"
   ]
  },
  {
   "cell_type": "markdown",
   "id": "0c0fecde",
   "metadata": {},
   "source": [
    "We find that the ARIMA(3,0,0) model provides us with the best fit according to the AIC. Taking into account that we already differentiated the time series once when computing the returns, we actually end up with an ARIMA(3,1,0) model. "
   ]
  },
  {
   "cell_type": "markdown",
   "id": "5eddbd03",
   "metadata": {},
   "source": [
    "The summary of the model gives us more detail about the parameters and the statistics."
   ]
  },
  {
   "cell_type": "code",
   "execution_count": 12,
   "id": "c7d97e95",
   "metadata": {},
   "outputs": [
    {
     "data": {
      "text/html": [
       "<table class=\"simpletable\">\n",
       "<caption>SARIMAX Results</caption>\n",
       "<tr>\n",
       "  <th>Dep. Variable:</th>           <td>y</td>        <th>  No. Observations:  </th>    <td>3373</td>   \n",
       "</tr>\n",
       "<tr>\n",
       "  <th>Model:</th>           <td>SARIMAX(3, 0, 0)</td> <th>  Log Likelihood     </th>  <td>10192.800</td>\n",
       "</tr>\n",
       "<tr>\n",
       "  <th>Date:</th>            <td>Thu, 11 Nov 2021</td> <th>  AIC                </th> <td>-20377.600</td>\n",
       "</tr>\n",
       "<tr>\n",
       "  <th>Time:</th>                <td>13:00:56</td>     <th>  BIC                </th> <td>-20353.106</td>\n",
       "</tr>\n",
       "<tr>\n",
       "  <th>Sample:</th>                  <td>0</td>        <th>  HQIC               </th> <td>-20368.842</td>\n",
       "</tr>\n",
       "<tr>\n",
       "  <th></th>                      <td> - 3373</td>     <th>                     </th>      <td> </td>    \n",
       "</tr>\n",
       "<tr>\n",
       "  <th>Covariance Type:</th>        <td>opg</td>       <th>                     </th>      <td> </td>    \n",
       "</tr>\n",
       "</table>\n",
       "<table class=\"simpletable\">\n",
       "<tr>\n",
       "     <td></td>       <th>coef</th>     <th>std err</th>      <th>z</th>      <th>P>|z|</th>  <th>[0.025</th>    <th>0.975]</th>  \n",
       "</tr>\n",
       "<tr>\n",
       "  <th>ar.L1</th>  <td>   -0.1048</td> <td>    0.009</td> <td>  -11.528</td> <td> 0.000</td> <td>   -0.123</td> <td>   -0.087</td>\n",
       "</tr>\n",
       "<tr>\n",
       "  <th>ar.L2</th>  <td>   -0.0686</td> <td>    0.007</td> <td>   -9.630</td> <td> 0.000</td> <td>   -0.083</td> <td>   -0.055</td>\n",
       "</tr>\n",
       "<tr>\n",
       "  <th>ar.L3</th>  <td>    0.0271</td> <td>    0.009</td> <td>    3.006</td> <td> 0.003</td> <td>    0.009</td> <td>    0.045</td>\n",
       "</tr>\n",
       "<tr>\n",
       "  <th>sigma2</th> <td>    0.0001</td> <td>  1.4e-06</td> <td>   98.993</td> <td> 0.000</td> <td>    0.000</td> <td>    0.000</td>\n",
       "</tr>\n",
       "</table>\n",
       "<table class=\"simpletable\">\n",
       "<tr>\n",
       "  <th>Ljung-Box (L1) (Q):</th>     <td>0.00</td> <th>  Jarque-Bera (JB):  </th> <td>17133.52</td>\n",
       "</tr>\n",
       "<tr>\n",
       "  <th>Prob(Q):</th>                <td>0.99</td> <th>  Prob(JB):          </th>   <td>0.00</td>  \n",
       "</tr>\n",
       "<tr>\n",
       "  <th>Heteroskedasticity (H):</th> <td>0.27</td> <th>  Skew:              </th>   <td>-0.54</td> \n",
       "</tr>\n",
       "<tr>\n",
       "  <th>Prob(H) (two-sided):</th>    <td>0.00</td> <th>  Kurtosis:          </th>   <td>13.99</td> \n",
       "</tr>\n",
       "</table><br/><br/>Warnings:<br/>[1] Covariance matrix calculated using the outer product of gradients (complex-step)."
      ],
      "text/plain": [
       "<class 'statsmodels.iolib.summary.Summary'>\n",
       "\"\"\"\n",
       "                               SARIMAX Results                                \n",
       "==============================================================================\n",
       "Dep. Variable:                      y   No. Observations:                 3373\n",
       "Model:               SARIMAX(3, 0, 0)   Log Likelihood               10192.800\n",
       "Date:                Thu, 11 Nov 2021   AIC                         -20377.600\n",
       "Time:                        13:00:56   BIC                         -20353.106\n",
       "Sample:                             0   HQIC                        -20368.842\n",
       "                               - 3373                                         \n",
       "Covariance Type:                  opg                                         \n",
       "==============================================================================\n",
       "                 coef    std err          z      P>|z|      [0.025      0.975]\n",
       "------------------------------------------------------------------------------\n",
       "ar.L1         -0.1048      0.009    -11.528      0.000      -0.123      -0.087\n",
       "ar.L2         -0.0686      0.007     -9.630      0.000      -0.083      -0.055\n",
       "ar.L3          0.0271      0.009      3.006      0.003       0.009       0.045\n",
       "sigma2         0.0001    1.4e-06     98.993      0.000       0.000       0.000\n",
       "===================================================================================\n",
       "Ljung-Box (L1) (Q):                   0.00   Jarque-Bera (JB):             17133.52\n",
       "Prob(Q):                              0.99   Prob(JB):                         0.00\n",
       "Heteroskedasticity (H):               0.27   Skew:                            -0.54\n",
       "Prob(H) (two-sided):                  0.00   Kurtosis:                        13.99\n",
       "===================================================================================\n",
       "\n",
       "Warnings:\n",
       "[1] Covariance matrix calculated using the outer product of gradients (complex-step).\n",
       "\"\"\""
      ]
     },
     "execution_count": 12,
     "metadata": {},
     "output_type": "execute_result"
    }
   ],
   "source": [
    "# show the summary of the model including the parameter values etc. \n",
    "fitted_arima_model.summary()"
   ]
  },
  {
   "cell_type": "markdown",
   "id": "7318d3ec",
   "metadata": {},
   "source": [
    "We note that the parameters $\\Phi_i, i=1,2,3$ are highly significat which indicates that the model is a proper choice."
   ]
  },
  {
   "cell_type": "markdown",
   "id": "ece1efc8",
   "metadata": {},
   "source": [
    "Now, we fit a GARCH model to the residuals. Since there is - at least to the best of my knowledge - no function existing to automatically determine the order for GARCH models, we will do this using a loop which fits several order combinations up to orders 5 for both p and q. The decision criteria will once again be the AIC. We use the arch package to fit the parameters whose documentation can be found here:\n",
    "\n",
    "https://pypi.org/project/arch/"
   ]
  },
  {
   "cell_type": "code",
   "execution_count": 13,
   "id": "715f024a",
   "metadata": {},
   "outputs": [],
   "source": [
    "# get residuals from ARIMA process\n",
    "arima_res = fitted_arima_model.arima_res_.resid"
   ]
  },
  {
   "cell_type": "code",
   "execution_count": 14,
   "id": "7b6b5041",
   "metadata": {},
   "outputs": [],
   "source": [
    "#Load required package\n",
    "from arch import arch_model \n",
    "\n",
    "# set maximum orders for GARCH model\n",
    "p_max = 5\n",
    "q_max = 5\n",
    "\n",
    "# scale data to avoid convergence issue (recommended in documentation)\n",
    "scale_rate = 100\n",
    "scal = scale_rate * arima_res\n",
    "\n",
    "# create containers to store models and the AICs\n",
    "models = [ [] for i in range(p_max)]\n",
    "aics = np.zeros((p_max,q_max))\n",
    "\n",
    "# use for loop to fit different models \n",
    "for i in range(1,p_max+1):\n",
    "    for j in range(1,q_max+1):\n",
    "        #create model with fixed order p=i, q=j\n",
    "        garch_model = arch_model(scal, vol='GARCH', p=i, q=j)\n",
    "        # fit model using automatic fitting function\n",
    "        garch_model_fitted = garch_model.fit(disp=False)\n",
    "        # store model for later use\n",
    "        models[i-1].append(garch_model_fitted) \n",
    "        # save AIC value for later use\n",
    "        aics[i-1,j-1] = garch_model_fitted.aic\n",
    "\n",
    "# add runtime "
   ]
  },
  {
   "cell_type": "markdown",
   "id": "67057c8a",
   "metadata": {},
   "source": [
    "After fitting the models for different orders, we are interested in which one is the best according to the AIC. We take a look at the AIC matrix we just created, find the best order combination and print the model's summary. \n",
    "\n",
    "For the dataframe, the row indices indicate the order of p and the column indices the order of q. "
   ]
  },
  {
   "cell_type": "code",
   "execution_count": 15,
   "id": "40a0b676",
   "metadata": {},
   "outputs": [
    {
     "data": {
      "text/html": [
       "<div>\n",
       "<style scoped>\n",
       "    .dataframe tbody tr th:only-of-type {\n",
       "        vertical-align: middle;\n",
       "    }\n",
       "\n",
       "    .dataframe tbody tr th {\n",
       "        vertical-align: top;\n",
       "    }\n",
       "\n",
       "    .dataframe thead th {\n",
       "        text-align: right;\n",
       "    }\n",
       "</style>\n",
       "<table border=\"1\" class=\"dataframe\">\n",
       "  <thead>\n",
       "    <tr style=\"text-align: right;\">\n",
       "      <th></th>\n",
       "      <th>1</th>\n",
       "      <th>2</th>\n",
       "      <th>3</th>\n",
       "      <th>4</th>\n",
       "      <th>5</th>\n",
       "    </tr>\n",
       "  </thead>\n",
       "  <tbody>\n",
       "    <tr>\n",
       "      <th>1</th>\n",
       "      <td>8772.505025</td>\n",
       "      <td>8774.505025</td>\n",
       "      <td>8776.505025</td>\n",
       "      <td>8778.505024</td>\n",
       "      <td>8780.505024</td>\n",
       "    </tr>\n",
       "    <tr>\n",
       "      <th>2</th>\n",
       "      <td>8766.407351</td>\n",
       "      <td>8765.934526</td>\n",
       "      <td>8767.934525</td>\n",
       "      <td>8769.934525</td>\n",
       "      <td>8771.934525</td>\n",
       "    </tr>\n",
       "    <tr>\n",
       "      <th>3</th>\n",
       "      <td>8768.407351</td>\n",
       "      <td>8766.808596</td>\n",
       "      <td>8768.808596</td>\n",
       "      <td>8770.808596</td>\n",
       "      <td>8772.808596</td>\n",
       "    </tr>\n",
       "    <tr>\n",
       "      <th>4</th>\n",
       "      <td>8770.083442</td>\n",
       "      <td>8768.267137</td>\n",
       "      <td>8770.232611</td>\n",
       "      <td>8771.739900</td>\n",
       "      <td>8773.719693</td>\n",
       "    </tr>\n",
       "    <tr>\n",
       "      <th>5</th>\n",
       "      <td>8772.083442</td>\n",
       "      <td>8770.267136</td>\n",
       "      <td>8772.232611</td>\n",
       "      <td>8773.739900</td>\n",
       "      <td>8775.664085</td>\n",
       "    </tr>\n",
       "  </tbody>\n",
       "</table>\n",
       "</div>"
      ],
      "text/plain": [
       "             1            2            3            4            5\n",
       "1  8772.505025  8774.505025  8776.505025  8778.505024  8780.505024\n",
       "2  8766.407351  8765.934526  8767.934525  8769.934525  8771.934525\n",
       "3  8768.407351  8766.808596  8768.808596  8770.808596  8772.808596\n",
       "4  8770.083442  8768.267137  8770.232611  8771.739900  8773.719693\n",
       "5  8772.083442  8770.267136  8772.232611  8773.739900  8775.664085"
      ]
     },
     "execution_count": 15,
     "metadata": {},
     "output_type": "execute_result"
    }
   ],
   "source": [
    "# create pandas data frame to show results \n",
    "test_frame = pd.DataFrame(data=aics,index=np.arange(1, p_max+1),columns=np.arange(1, q_max+1))\n",
    "test_frame  "
   ]
  },
  {
   "cell_type": "code",
   "execution_count": 16,
   "id": "766d53b6",
   "metadata": {},
   "outputs": [
    {
     "name": "stdout",
     "output_type": "stream",
     "text": [
      "The best result according to the AIC is achieved for p = 2 and q = 2 with an AIC value of 8765.934525588818.\n"
     ]
    }
   ],
   "source": [
    "# find index of minimum AIC\n",
    "index = np.unravel_index(aics.argmin(), aics.shape)\n",
    "p_opt, q_opt = index[0]+1, index[1]+1\n",
    "\n",
    "print(f'The best result according to the AIC is achieved for p = {p_opt} and q = {q_opt} with an AIC value of {aics[index[0],index[1]]}.')"
   ]
  },
  {
   "cell_type": "markdown",
   "id": "94805e84",
   "metadata": {},
   "source": [
    "The model details of the selected model are as follows:"
   ]
  },
  {
   "cell_type": "code",
   "execution_count": 17,
   "id": "666061af",
   "metadata": {
    "scrolled": true
   },
   "outputs": [
    {
     "data": {
      "text/plain": [
       "                     Constant Mean - GARCH Model Results                      \n",
       "==============================================================================\n",
       "Dep. Variable:                      y   R-squared:                       0.000\n",
       "Mean Model:             Constant Mean   Adj. R-squared:                  0.000\n",
       "Vol Model:                      GARCH   Log-Likelihood:               -4376.97\n",
       "Distribution:                  Normal   AIC:                           8765.93\n",
       "Method:            Maximum Likelihood   BIC:                           8802.68\n",
       "                                        No. Observations:                 3373\n",
       "Date:                Thu, Nov 11 2021   Df Residuals:                     3372\n",
       "Time:                        13:00:58   Df Model:                            1\n",
       "                                 Mean Model                                 \n",
       "============================================================================\n",
       "                 coef    std err          t      P>|t|      95.0% Conf. Int.\n",
       "----------------------------------------------------------------------------\n",
       "mu             0.0696  1.306e-02      5.330  9.818e-08 [4.402e-02,9.523e-02]\n",
       "                              Volatility Model                              \n",
       "============================================================================\n",
       "                 coef    std err          t      P>|t|      95.0% Conf. Int.\n",
       "----------------------------------------------------------------------------\n",
       "omega          0.0404  1.106e-02      3.658  2.546e-04 [1.877e-02,6.212e-02]\n",
       "alpha[1]       0.0802  3.284e-02      2.442  1.461e-02   [1.583e-02,  0.145]\n",
       "alpha[2]       0.1322  2.406e-02      5.494  3.938e-08   [8.502e-02,  0.179]\n",
       "beta[1]        0.1342      0.302      0.444      0.657     [ -0.458,  0.726]\n",
       "beta[2]        0.6161      0.272      2.263  2.363e-02   [8.251e-02,  1.150]\n",
       "============================================================================\n",
       "\n",
       "Covariance estimator: robust\n",
       "ARCHModelResult, id: 0x23bddd213a0"
      ]
     },
     "execution_count": 17,
     "metadata": {},
     "output_type": "execute_result"
    }
   ],
   "source": [
    "# show optimal model details \n",
    "opt_garch_model = models[index[0]][index[1]]\n",
    "opt_garch_model"
   ]
  },
  {
   "cell_type": "markdown",
   "id": "65427423",
   "metadata": {},
   "source": [
    "Again, all of the coefficients are significant and the model seems to be a good choice."
   ]
  },
  {
   "cell_type": "markdown",
   "id": "4a9b78bd",
   "metadata": {},
   "source": [
    "We now save the residuals of the fitted model."
   ]
  },
  {
   "cell_type": "code",
   "execution_count": 18,
   "id": "ee444bbe",
   "metadata": {},
   "outputs": [],
   "source": [
    "# store residuals \n",
    "res_garch = opt_garch_model.resid / scale_rate"
   ]
  },
  {
   "cell_type": "markdown",
   "id": "69bb2516",
   "metadata": {},
   "source": [
    "Undo scaling!!"
   ]
  },
  {
   "cell_type": "markdown",
   "id": "af603ef3",
   "metadata": {},
   "source": [
    "We can now proceed with the Ljung-Box test which tests if the residuals of the model are white noise or if autocorrelation can be found. Setting the confidence level to $\\alpha = 0.05$, the Null hypothesis of the Ljung-Box test (independence of the residuals) is rejected if the p-value is far less than $\\alpha$. Here, we restrict ourselves to the first 10 lags."
   ]
  },
  {
   "cell_type": "code",
   "execution_count": 19,
   "id": "3a9a4fa4",
   "metadata": {},
   "outputs": [
    {
     "data": {
      "text/html": [
       "<div>\n",
       "<style scoped>\n",
       "    .dataframe tbody tr th:only-of-type {\n",
       "        vertical-align: middle;\n",
       "    }\n",
       "\n",
       "    .dataframe tbody tr th {\n",
       "        vertical-align: top;\n",
       "    }\n",
       "\n",
       "    .dataframe thead th {\n",
       "        text-align: right;\n",
       "    }\n",
       "</style>\n",
       "<table border=\"1\" class=\"dataframe\">\n",
       "  <thead>\n",
       "    <tr style=\"text-align: right;\">\n",
       "      <th></th>\n",
       "      <th>lb_stat</th>\n",
       "      <th>lb_pvalue</th>\n",
       "    </tr>\n",
       "  </thead>\n",
       "  <tbody>\n",
       "    <tr>\n",
       "      <th>1</th>\n",
       "      <td>0.000091</td>\n",
       "      <td>0.992380</td>\n",
       "    </tr>\n",
       "    <tr>\n",
       "      <th>2</th>\n",
       "      <td>0.001119</td>\n",
       "      <td>0.999441</td>\n",
       "    </tr>\n",
       "    <tr>\n",
       "      <th>3</th>\n",
       "      <td>0.117923</td>\n",
       "      <td>0.989603</td>\n",
       "    </tr>\n",
       "    <tr>\n",
       "      <th>4</th>\n",
       "      <td>1.810769</td>\n",
       "      <td>0.770512</td>\n",
       "    </tr>\n",
       "    <tr>\n",
       "      <th>5</th>\n",
       "      <td>9.477482</td>\n",
       "      <td>0.091469</td>\n",
       "    </tr>\n",
       "    <tr>\n",
       "      <th>6</th>\n",
       "      <td>9.686222</td>\n",
       "      <td>0.138503</td>\n",
       "    </tr>\n",
       "    <tr>\n",
       "      <th>7</th>\n",
       "      <td>11.431379</td>\n",
       "      <td>0.120878</td>\n",
       "    </tr>\n",
       "    <tr>\n",
       "      <th>8</th>\n",
       "      <td>12.482137</td>\n",
       "      <td>0.130954</td>\n",
       "    </tr>\n",
       "    <tr>\n",
       "      <th>9</th>\n",
       "      <td>13.251138</td>\n",
       "      <td>0.151568</td>\n",
       "    </tr>\n",
       "    <tr>\n",
       "      <th>10</th>\n",
       "      <td>18.812168</td>\n",
       "      <td>0.042714</td>\n",
       "    </tr>\n",
       "  </tbody>\n",
       "</table>\n",
       "</div>"
      ],
      "text/plain": [
       "      lb_stat  lb_pvalue\n",
       "1    0.000091   0.992380\n",
       "2    0.001119   0.999441\n",
       "3    0.117923   0.989603\n",
       "4    1.810769   0.770512\n",
       "5    9.477482   0.091469\n",
       "6    9.686222   0.138503\n",
       "7   11.431379   0.120878\n",
       "8   12.482137   0.130954\n",
       "9   13.251138   0.151568\n",
       "10  18.812168   0.042714"
      ]
     },
     "execution_count": 19,
     "metadata": {},
     "output_type": "execute_result"
    }
   ],
   "source": [
    "# import Ljung-Box test from statsmodel\n",
    "from statsmodels.stats.diagnostic import acorr_ljungbox\n",
    "\n",
    "# apply test on residuals of the fitted GARCH model \n",
    "# we perform the test for fist 10 lags\n",
    "acorr_ljungbox(res_garch, lags=np.arange(1,11), return_df=True)"
   ]
  },
  {
   "cell_type": "markdown",
   "id": "ad5612a0",
   "metadata": {},
   "source": [
    "We find that the Null hypothesis is far from being rejected for all lags and we thus conclude that the residuals are independent, i.e. white noise as desired. "
   ]
  },
  {
   "cell_type": "markdown",
   "id": "22199175",
   "metadata": {},
   "source": [
    "Fortunately, we are now in a position to make predictions based on the combined ARIMA-GARCH model which will be updated from time to time (here weekly, i.e. every five days)."
   ]
  },
  {
   "cell_type": "markdown",
   "id": "41826a24",
   "metadata": {},
   "source": [
    "Before we start, we load a function which will help us to display the progress of the forecasting later on."
   ]
  },
  {
   "cell_type": "code",
   "execution_count": 20,
   "id": "a25ef8c0",
   "metadata": {},
   "outputs": [],
   "source": [
    "from tqdm.notebook import tqdm"
   ]
  },
  {
   "cell_type": "markdown",
   "id": "0e8354cf",
   "metadata": {},
   "source": [
    "To avoid too many warnings that are not essential, we do the following:"
   ]
  },
  {
   "cell_type": "code",
   "execution_count": 21,
   "id": "c2203363",
   "metadata": {},
   "outputs": [],
   "source": [
    "from arch.__future__ import reindexing"
   ]
  },
  {
   "cell_type": "markdown",
   "id": "9d42f3a3",
   "metadata": {},
   "source": [
    "We are now ready to prepare the forecasting. Recall that a forecast can be made following the formula from above: \n",
    "\\begin{equation*}\n",
    "\\begin{aligned}\n",
    "X_t &= \\sum_{i=1}^p \\Phi_i X_{t-i} + \\sum_{i=1}^q \\theta_i \\epsilon_{t-i} + \\epsilon_t, \\\\\n",
    "\\epsilon_t &= \\sigma_t e_t, \\\\\n",
    "\\sigma_t^2 &= \\alpha_0 + \\sum_{i=1}^{p'} \\alpha_i \\epsilon_{t-i}^2 + \\sum_{j=1}^{q'} \\beta_j \\sigma_{t-j}^2.\n",
    "\\end{aligned}\n",
    "\\end{equation*}\n",
    "\n",
    "The first line is generated by the ARIMA model, except the bias $\\epsilon_t$ which comes from the GARCH models in lines two and three. It is important to undo the upscaling for the predictions generated by the GARCH model!"
   ]
  },
  {
   "cell_type": "code",
   "execution_count": 22,
   "id": "4ea39dc6",
   "metadata": {},
   "outputs": [],
   "source": [
    "# load previously fitted models for ARIMA and GARCH part\n",
    "model1 = fitted_arima_model \n",
    "model2 = opt_garch_model\n",
    "\n",
    "# generate first one-step forecast with both models\n",
    "fc, conf_int = fitted_arima_model.predict(n_periods=1, return_conf_int=True)\n",
    "first_fc_garch = model2.forecast(horizon=1)\n",
    "first_var_garch = first_fc_garch.mean.values[-1, :]\n"
   ]
  },
  {
   "cell_type": "code",
   "execution_count": 23,
   "id": "1163d36e",
   "metadata": {},
   "outputs": [
    {
     "name": "stdout",
     "output_type": "stream",
     "text": [
      "There are 169 forecasts and model updates to be performed in order to get predictions for 845 days on a weekly basis, i.e. every fifth day.\n"
     ]
    }
   ],
   "source": [
    "# generate first prediction according to model formulas\n",
    "# with standard normally distributed bias \n",
    "first_pred = fc[0] + first_var_garch * np.random.normal(0, 1, 1) / scale_rate\n",
    "\n",
    "# create data container (array) for predictions\n",
    "forecast = np.array(first_pred)\n",
    "\n",
    "# initiate array which contains all available scaled data\n",
    "avail_data = scale_rate * fit \n",
    "\n",
    "# take time to measure duration of process\n",
    "start_time = time.time()\n",
    "\n",
    "# print number of iterations needed\n",
    "print(f'There are {int(len(validation)/5)} forecasts and model updates to be performed in order to get predictions for {len(validation)} days on a weekly basis, i.e. every fifth day.')\n"
   ]
  },
  {
   "cell_type": "code",
   "execution_count": 24,
   "id": "3141e6c1",
   "metadata": {},
   "outputs": [
    {
     "data": {
      "application/vnd.jupyter.widget-view+json": {
       "model_id": "6d65b10f3df34f6d9fa89bbb50af89ae",
       "version_major": 2,
       "version_minor": 0
      },
      "text/plain": [
       "  0%|          | 0/168 [00:00<?, ?it/s]"
      ]
     },
     "metadata": {},
     "output_type": "display_data"
    }
   ],
   "source": [
    "# loop to make forecast for five days ahead and update the models \n",
    "# progress will be shown using tqdm function\n",
    "for i in tqdm(range(1,int(len(validation)/5))):\n",
    "    # generate predictions from each model\n",
    "    arima_fc, arima_conf_int = model1.predict(n_periods=5, return_conf_int=True)\n",
    "    #forecast_arima = np.concatenate((forecast_arima,arima_fc))\n",
    "    fc_garch = model2.forecast(horizon=5)\n",
    "    var_garch = fc_garch.variance.values[-1, :] \n",
    "    \n",
    "    # combine predictions to generate final predictions according to formula \n",
    "    fc = np.zeros(5)\n",
    "    for j in range(5):\n",
    "        fc[j] = arima_fc[j] + np.random.normal(0, 1, 1) * np.sqrt(var_garch[j]) / scale_rate #SQRT?!\n",
    "        \n",
    "    # add forecasts and newly available correct observations to data containers\n",
    "    forecast = np.concatenate((forecast,fc))\n",
    "    avail_data = np.concatenate((avail_data,scale_rate*validation[-5:]))\n",
    "    \n",
    "    # use integrated update function to update ARIMA model after one week\n",
    "    model1.update(validation[-5:])\n",
    "    \n",
    "    # refit GARCH model with all available scaled data\n",
    "    new_garch_model = arch_model(avail_data, vol='GARCH', p=int(p_opt), q=int(q_opt))\n",
    "    model2 = new_garch_model.fit(disp=False)\n",
    "        "
   ]
  },
  {
   "cell_type": "code",
   "execution_count": 25,
   "id": "9520d169",
   "metadata": {},
   "outputs": [
    {
     "name": "stdout",
     "output_type": "stream",
     "text": [
      "The forecasting process took 113.97 Seconds.\n"
     ]
    },
    {
     "data": {
      "image/png": "[encoded data removed]",
      "text/plain": [
       "<Figure size 432x288 with 1 Axes>"
      ]
     },
     "metadata": {
      "needs_background": "light"
     },
     "output_type": "display_data"
    }
   ],
   "source": [
    "# save end time\n",
    "end_time = time.time()\n",
    "\n",
    "# print duration \n",
    "print('The forecasting process took {:.2f} Seconds.'.format(end_time-start_time))\n",
    "\n",
    "# plot forecast vs. validation set\n",
    "l = len(forecast)\n",
    "\n",
    "fig, ax = plt.subplots()\n",
    "ax.plot_date(dates_validation[:l],validation[:l],label='Validation',lw=.8,marker='', linestyle='-') \n",
    "ax.plot_date(dates_validation[:l],forecast[:],label='Forecast',lw=.8,marker='', linestyle='-')\n",
    "fig.autofmt_xdate()\n",
    "plt.legend()\n",
    "plt.savefig('C:/Users/morit/Documents/Studium/Master-Arbeit 2021/Master Thesis TeX/figures/ForecastARIMAGARCH.pdf')\n",
    "plt.show()"
   ]
  },
  {
   "cell_type": "markdown",
   "id": "e51cbffd",
   "metadata": {},
   "source": [
    "We would now like to measure the quality of the generalization power of this model. Here, we use the root mean-squared error (RMSE) given by \n",
    "\n",
    "\\begin{equation*}\n",
    "RMSE(\\hat{Y},Y) := \\sqrt{\\frac{1}{N} \\sum_{i=1}^N \\left(\\hat{Y}_i - Y_i \\right)^2},\n",
    "\\end{equation*}\n",
    "\n",
    "where $N$ is the number of predictions, $\\hat{Y}_i$ the prediction and $Y_i$ the actual observed data at time $i$."
   ]
  },
  {
   "cell_type": "code",
   "execution_count": 26,
   "id": "3eeb1639",
   "metadata": {},
   "outputs": [
    {
     "name": "stdout",
     "output_type": "stream",
     "text": [
      "The RMSE of this forecasting method is 0.017937.\n",
      "The average return of the observations is 0.000581.\n"
     ]
    }
   ],
   "source": [
    "# import mse function from sklearn\n",
    "from sklearn.metrics import mean_squared_error\n",
    "\n",
    "# compute RMSE by taking square root of MSE\n",
    "rmse = np.sqrt(mean_squared_error(forecast, validation[:l]))\n",
    "print('The RMSE of this forecasting method is {:.6f}.'.format(rmse))\n",
    "print('The average return of the observations is {:.6f}.'.format(np.mean(validation[:l])))"
   ]
  },
  {
   "cell_type": "markdown",
   "id": "f35e3bd5",
   "metadata": {},
   "source": [
    "We find that the RMSE is greater than the average return which indicates that the ARIMA-GARCH model is not the best choice to forecast financial time series. "
   ]
  },
  {
   "cell_type": "markdown",
   "id": "5d3c59bf",
   "metadata": {},
   "source": [
    "However, to be able to compare this result, we compute the RMSE for a primitive prediction strategy, which predicts the return of the next day to be indentical to today's return."
   ]
  },
  {
   "cell_type": "code",
   "execution_count": 27,
   "id": "c128d6aa",
   "metadata": {},
   "outputs": [
    {
     "name": "stdout",
     "output_type": "stream",
     "text": [
      "The RMSE of the primitive forecasting method is 0.022220.\n"
     ]
    }
   ],
   "source": [
    "# get last return from fitting period \n",
    "last_ret_fit = np.array([fit[-1]])\n",
    "\n",
    "# create forecasts by taking return of previous day\n",
    "forecast_prim = np.concatenate((last_ret_fit,validation[:-1]))\n",
    "\n",
    "# compute RMSE of this method\n",
    "rmse_prim = np.sqrt(mean_squared_error(forecast_prim[:l], validation[:l]))\n",
    "print('The RMSE of the primitive forecasting method is {:.6f}.'.format(rmse_prim))"
   ]
  },
  {
   "cell_type": "markdown",
   "id": "10b80ea0",
   "metadata": {},
   "source": [
    "At least the ARIMA-GARCH model is worth the computational effort since it performs a lot better than this primitive forecasting procedure."
   ]
  },
  {
   "cell_type": "markdown",
   "id": "e47af2e2",
   "metadata": {},
   "source": [
    "# Forcasting Based on Smoothing Techniques"
   ]
  },
  {
   "cell_type": "markdown",
   "id": "666faca8",
   "metadata": {},
   "source": [
    "We would like to compare the predictive performance of the ARIMA-GARCH model to some smoothing techniques."
   ]
  },
  {
   "cell_type": "markdown",
   "id": "0f0db760",
   "metadata": {},
   "source": [
    "We define a function which is able to handle both fixed alphas and the need to find the best alpha in every step. We update the model only with regard to a limited amount of previous data once we are rolling through the forecasts. Without updating the model, we would end up with a straight line. "
   ]
  },
  {
   "cell_type": "code",
   "execution_count": 28,
   "id": "1847f82f",
   "metadata": {},
   "outputs": [],
   "source": [
    "from statsmodels.tsa.holtwinters import ExponentialSmoothing\n",
    "\n",
    "def rolling_forecast_ses(model, data, validation, alpha=0, steps=10, opt=False):\n",
    "    '''This function takes the exp smoothing model, the fitting data,\n",
    "    the validation data, the smoothing rate and the amount of steps\n",
    "    it should back to as its input. Opt=True asks the smoothing model to \n",
    "    automatically find the best alpha. It generates a rolling forecast while\n",
    "    continuously updating the simple exponential smoothing model.'''\n",
    "    # create data container for forecasts\n",
    "    forecast = []\n",
    "    \n",
    "    # create first instance from model \n",
    "    if opt:\n",
    "        ins = model.fit(optimized=True)\n",
    "    else:\n",
    "        ins = model.fit(smoothing_level=alpha, optimized=False)\n",
    "    \n",
    "    # loop to generate forecast and update model in every step \n",
    "    for i in tqdm(range(len(validation))):\n",
    "        # one step ahead forecast\n",
    "        fc = ins.forecast(1)\n",
    "        \n",
    "        # extend data containers with new information\n",
    "        forecast.append(fc)\n",
    "        data = np.concatenate((data,validation[i]))\n",
    "        \n",
    "        # update model with regard to last steps\n",
    "        model_smooth = ExponentialSmoothing(data[-steps:],initialization_method='heuristic')\n",
    "        if opt:\n",
    "            ins = model_smooth.fit(optimized=True)\n",
    "        else:\n",
    "            ins = model_smooth.fit(smoothing_level=alpha, optimized=False)\n",
    "\n",
    "    return forecast "
   ]
  },
  {
   "cell_type": "markdown",
   "id": "0a800498",
   "metadata": {},
   "source": [
    "Next, we generate forecasts for different levels of fixed $\\alpha$ and the optimized version. Furthermore, we compute the RMSE of this approach and plot the results. Note that $\\alpha = 0$ would be identical with the primitive method we used above."
   ]
  },
  {
   "cell_type": "code",
   "execution_count": 31,
   "id": "1a3c2030",
   "metadata": {},
   "outputs": [
    {
     "data": {
      "application/vnd.jupyter.widget-view+json": {
       "model_id": "e8ae2230924649f6bc36413512b5feca",
       "version_major": 2,
       "version_minor": 0
      },
      "text/plain": [
       "  0%|          | 0/845 [00:00<?, ?it/s]"
      ]
     },
     "metadata": {},
     "output_type": "display_data"
    }
   ],
   "source": [
    "# fix alpha  \n",
    "alpha1 = 0.2\n",
    "steps = 30\n",
    "\n",
    "# compile initial model \n",
    "model_init1 = ExponentialSmoothing(np.concatenate(fit,axis=0),initialization_method='heuristic')\n",
    "ins_init1 = model_init1.fit(smoothing_level=alpha1, optimized=False)\n",
    "\n",
    "# call rolling forecast function \n",
    "forecast1 = rolling_forecast_ses(model=model_init1, data=np.concatenate(fit,axis=0), validation=validation, alpha=alpha1, steps=steps)\n"
   ]
  },
  {
   "cell_type": "code",
   "execution_count": 42,
   "id": "1acc1d13",
   "metadata": {},
   "outputs": [
    {
     "data": {
      "image/png": "[encoded data removed]",
      "text/plain": [
       "<Figure size 432x288 with 1 Axes>"
      ]
     },
     "metadata": {
      "needs_background": "light"
     },
     "output_type": "display_data"
    }
   ],
   "source": [
    "# plot results for alpha = 0.2\n",
    "fig, ax = plt.subplots()\n",
    "ax.plot_date(dates_fit[-250:], fit[-250:], label='Original',marker='', linestyle='-',lw=0.85)\n",
    "ax.plot_date(dates_validation[:100], validation[:100], label='Validation',marker='', linestyle='-',lw=0.85)\n",
    "ax.plot_date(dates_fit[-250:], ins_init1.fittedvalues[-250:], label=f'α = {alpha1}',marker='', linestyle='-',color='red',lw=0.85)\n",
    "ax.plot_date(dates_validation[:100], forecast1[:100], label=f'Forecast, α={alpha1}',marker='', linestyle='-',lw=0.85, color='black')\n",
    "fig.autofmt_xdate()\n",
    "plt.legend()\n",
    "plt.show()"
   ]
  },
  {
   "cell_type": "code",
   "execution_count": 43,
   "id": "5fc43a03",
   "metadata": {},
   "outputs": [
    {
     "data": {
      "application/vnd.jupyter.widget-view+json": {
       "model_id": "03b227281f2c4a198b0151bf7fab9a67",
       "version_major": 2,
       "version_minor": 0
      },
      "text/plain": [
       "  0%|          | 0/845 [00:00<?, ?it/s]"
      ]
     },
     "metadata": {},
     "output_type": "display_data"
    }
   ],
   "source": [
    "# fix alpha  \n",
    "alpha2 = 0.6\n",
    "steps = 30\n",
    "\n",
    "# compile initial model \n",
    "model_init2 = ExponentialSmoothing(np.concatenate(fit,axis=0),initialization_method='heuristic')\n",
    "ins_init2 = model_init2.fit(smoothing_level=alpha2, optimized=False)\n",
    "\n",
    "# call rolling forecast function \n",
    "forecast2 = rolling_forecast_ses(model=model_init2, data=np.concatenate(fit,axis=0), validation=validation, alpha=alpha2, steps=steps)\n"
   ]
  },
  {
   "cell_type": "code",
   "execution_count": 44,
   "id": "6aafb1b3",
   "metadata": {},
   "outputs": [
    {
     "data": {
      "image/png": "[encoded data removed]",
      "text/plain": [
       "<Figure size 432x288 with 1 Axes>"
      ]
     },
     "metadata": {
      "needs_background": "light"
     },
     "output_type": "display_data"
    }
   ],
   "source": [
    "# plot results for alpha = 0.6\n",
    "fig, ax = plt.subplots()\n",
    "ax.plot_date(dates_fit[-250:], fit[-250:], label='Original',marker='', linestyle='-',lw=0.85)\n",
    "ax.plot_date(dates_validation[:100], validation[:100], label='Validation',marker='', linestyle='-',lw=0.85)\n",
    "ax.plot_date(dates_fit[-250:], ins_init2.fittedvalues[-250:], label=f'α = {alpha2}',marker='', linestyle='-',color='red',lw=0.85)\n",
    "ax.plot_date(dates_validation[:100], forecast2[:100], label=f'Forecast, α={alpha2}',marker='', linestyle='-',lw=0.85, color='black')\n",
    "fig.autofmt_xdate()\n",
    "plt.legend()\n",
    "plt.show()"
   ]
  },
  {
   "cell_type": "markdown",
   "id": "ba10a2af",
   "metadata": {},
   "source": [
    "We note that for higher $\\alpha$ the forecast is more volatile. "
   ]
  },
  {
   "cell_type": "code",
   "execution_count": 45,
   "id": "c599f7a2",
   "metadata": {},
   "outputs": [
    {
     "data": {
      "application/vnd.jupyter.widget-view+json": {
       "model_id": "1ae463b30ffb4f74baeb1c0df097a247",
       "version_major": 2,
       "version_minor": 0
      },
      "text/plain": [
       "  0%|          | 0/845 [00:00<?, ?it/s]"
      ]
     },
     "metadata": {},
     "output_type": "display_data"
    }
   ],
   "source": [
    "# automatically optimized alpha over time \n",
    "steps = 30\n",
    "\n",
    "# compile initial model \n",
    "model_init3 = ExponentialSmoothing(np.concatenate(fit,axis=0),initialization_method='heuristic')\n",
    "ins_init3 = model_init3.fit(optimized=True)\n",
    "\n",
    "# call rolling forecast function \n",
    "forecast3 = rolling_forecast_ses(model=model_init3, data=np.concatenate(fit,axis=0), validation=validation, opt=True, steps=steps)\n"
   ]
  },
  {
   "cell_type": "code",
   "execution_count": 46,
   "id": "fa3277e5",
   "metadata": {},
   "outputs": [
    {
     "data": {
      "image/png": "[encoded data removed]",
      "text/plain": [
       "<Figure size 432x288 with 1 Axes>"
      ]
     },
     "metadata": {
      "needs_background": "light"
     },
     "output_type": "display_data"
    }
   ],
   "source": [
    "# plot for optimized alpha\n",
    "fig, ax = plt.subplots()\n",
    "ax.plot_date(dates_fit[-250:], fit[-250:], label='Original',marker='', linestyle='-',lw=0.85)\n",
    "ax.plot_date(dates_validation[:100], validation[:100], label='Validation',marker='', linestyle='-',lw=0.85)\n",
    "ax.plot_date(dates_fit[-250:], ins_init1.fittedvalues[-250:], label='Optimized α',marker='', linestyle='-',color='red',lw=0.85)\n",
    "ax.plot_date(dates_validation[:100], forecast3[:100], label='Forecast, Optimized α',marker='', linestyle='-',lw=0.85, color='black')\n",
    "fig.autofmt_xdate()\n",
    "plt.ylim((-0.045,0.0325))\n",
    "plt.legend()\n",
    "plt.savefig('C:/Users/morit/Documents/Studium/Master-Arbeit 2021/Master Thesis TeX/figures/SES_Opt_Alpha.pdf')\n",
    "plt.show()"
   ]
  },
  {
   "cell_type": "code",
   "execution_count": 47,
   "id": "e6934ca1",
   "metadata": {},
   "outputs": [
    {
     "name": "stdout",
     "output_type": "stream",
     "text": [
      "\n",
      "The RMSE of the exponential smoothing forecasting method with alpha = 0.2 is 0.014913.\n",
      "\n",
      "\n",
      "The RMSE of the exponential smoothing forecasting method with alpha = 0.6 is 0.017614.\n",
      "\n",
      "\n",
      "The RMSE of the exponential smoothing forecasting method with automatically optimized alpha is 0.014527.\n",
      "\n"
     ]
    }
   ],
   "source": [
    "# RMSEs\n",
    "l = len(forecast1)\n",
    "\n",
    "# RMSE for alpha = 0.2\n",
    "rmse1 = np.sqrt(mean_squared_error(forecast1[:l], validation[:l]))\n",
    "print('\\nThe RMSE of the exponential smoothing forecasting method with alpha = {:.1f} is {:.6f}.\\n'.format(alpha1, rmse1))\n",
    "\n",
    "# RMSE for alpha = 0.6\n",
    "rmse2 = np.sqrt(mean_squared_error(forecast2[:l], validation[:l]))\n",
    "print('\\nThe RMSE of the exponential smoothing forecasting method with alpha = {:.1f} is {:.6f}.\\n'.format(alpha2, rmse2))\n",
    "\n",
    "# RMSE for automatically optimized alpha\n",
    "rmse3 = np.sqrt(mean_squared_error(forecast3[:l], validation[:l]))\n",
    "print('\\nThe RMSE of the exponential smoothing forecasting method with automatically optimized alpha is {:.6f}.\\n'.format(rmse3))"
   ]
  },
  {
   "cell_type": "code",
   "execution_count": null,
   "id": "2e5ec837",
   "metadata": {},
   "outputs": [],
   "source": []
  }
 ],
 "metadata": {
  "kernelspec": {
   "display_name": "Python 3 (ipykernel)",
   "language": "python",
   "name": "python3"
  },
  "language_info": {
   "codemirror_mode": {
    "name": "ipython",
    "version": 3
   },
   "file_extension": ".py",
   "mimetype": "text/x-python",
   "name": "python",
   "nbconvert_exporter": "python",
   "pygments_lexer": "ipython3",
   "version": "3.9.7"
  }
 },
 "nbformat": 4,
 "nbformat_minor": 5
}
