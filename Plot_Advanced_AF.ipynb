{
 "cells": [
  {
   "cell_type": "markdown",
   "id": "f23ae066",
   "metadata": {},
   "source": [
    "# Plot of Three Advanced Activation Functions"
   ]
  },
  {
   "cell_type": "markdown",
   "id": "522bca7e",
   "metadata": {},
   "source": [
    "Author: Moritz Ahl \n",
    "\n",
    "Date: January 2022\n",
    "\n",
    "Software: Windows 10, Python 3.9, Jupyter Notebook 6.4.5"
   ]
  },
  {
   "cell_type": "markdown",
   "id": "ba3bac7f",
   "metadata": {},
   "source": [
    "This programm plots three advanced types of activation functions for neurons in a neural network. The three functions are \n",
    "\n",
    "Restricted linear unit (ReLU): \n",
    "\n",
    "\\begin{equation}\n",
    "\\text{ReLU} : \\mathbb{R} \\longrightarrow \\lbrack -1, 1 \\rbrack, \\quad \\text{ReLU}(z) := \\max \\lbrace 0, z \\rbrace.\n",
    "\\end{equation}\n",
    "\n",
    "Leaky ReLU:\n",
    "\n",
    "\\begin{equation}\n",
    "\\text{LeakyReLU} : \\mathbb{R} \\longrightarrow \\mathbb{R}, \\quad \\text{LeakyReLU}(z) := \\max \\lbrace \\alpha z, z \\rbrace.\n",
    "\\end{equation}\n",
    "\n",
    "Exponential linear unit (ELU):\n",
    "\n",
    "\\begin{equation}\n",
    "\\text{ELU}_{\\alpha}: \\mathbb{R} \\longrightarrow \\mathbb{R}_+, \\quad \\text{ELU}_{\\alpha} (z) := \\begin{cases}\n",
    "\\alpha \\left( \\exp z - 1 \\right),& \\text{if } z < 0, \\\\\n",
    "z,& \\text{if } z \\geq 0\n",
    "\\end{cases}\n",
    "\\end{equation}"
   ]
  },
  {
   "cell_type": "code",
   "execution_count": 1,
   "id": "6070b807",
   "metadata": {},
   "outputs": [],
   "source": [
    "# import packages \n",
    "import numpy as np\n",
    "import matplotlib.pyplot as plt"
   ]
  },
  {
   "cell_type": "code",
   "execution_count": 2,
   "id": "3119bef2",
   "metadata": {},
   "outputs": [],
   "source": [
    "# define activation functions \n",
    "\n",
    "# restricted linear unit \n",
    "def ReLU(z):\n",
    "    return np.maximum(0,z)\n",
    "\n",
    "# leaky ReLU\n",
    "def LeakyReLU(z, alpha):\n",
    "    return np.maximum(alpha * z, z)\n",
    "\n",
    "# exponential linear unit\n",
    "def ELU(z, alpha):\n",
    "    val = alpha * (np.exp(z) - 1)\n",
    "    return np.where(z < 0, val, z)"
   ]
  },
  {
   "cell_type": "code",
   "execution_count": 3,
   "id": "e708cfe0",
   "metadata": {},
   "outputs": [
    {
     "data": {
      "image/png": "[encoded data removed]",
      "text/plain": [
       "<Figure size 432x288 with 1 Axes>"
      ]
     },
     "metadata": {
      "needs_background": "light"
     },
     "output_type": "display_data"
    }
   ],
   "source": [
    "# plot activation functions \n",
    "\n",
    "# define z in range of plot from -5 to 5\n",
    "z = np.arange(-5,5.01,0.01)\n",
    "\n",
    "# plot ReLu\n",
    "plt.plot(z, ReLU(z), lw=2, label='ReLU')\n",
    "\n",
    "# plot Leaky ReLU in same figure for alpha = 0.2\n",
    "plt.plot(z, LeakyReLU(z=z, alpha = 0.2), lw=2, label='Leaky ReLU')\n",
    "\n",
    "# plot ELU in same figure for alpha = 1\n",
    "plt.plot(z, ELU(z=z, alpha = 1), lw=2, label='ELU')\n",
    "\n",
    "# legend\n",
    "plt.legend()\n",
    "\n",
    "plt.grid(linestyle=':')\n",
    "\n",
    "# save plot\n",
    "plt.savefig('C:/Users/morit/Documents/Studium/Master-Arbeit 2021/Master Thesis TeX/figures/AdvancedAFs.pdf')\n",
    "\n",
    "# show plot \n",
    "plt.show()"
   ]
  },
  {
   "cell_type": "code",
   "execution_count": null,
   "id": "e39d33c2",
   "metadata": {},
   "outputs": [],
   "source": []
  }
 ],
 "metadata": {
  "kernelspec": {
   "display_name": "Python 3 (ipykernel)",
   "language": "python",
   "name": "python3"
  },
  "language_info": {
   "codemirror_mode": {
    "name": "ipython",
    "version": 3
   },
   "file_extension": ".py",
   "mimetype": "text/x-python",
   "name": "python",
   "nbconvert_exporter": "python",
   "pygments_lexer": "ipython3",
   "version": "3.9.7"
  }
 },
 "nbformat": 4,
 "nbformat_minor": 5
}
