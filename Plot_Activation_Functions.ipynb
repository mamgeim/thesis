{
 "cells": [
  {
   "cell_type": "markdown",
   "id": "0b916b84",
   "metadata": {},
   "source": [
    "# Plot of Non-Linear Activation Functions"
   ]
  },
  {
   "cell_type": "markdown",
   "id": "522bca7e",
   "metadata": {},
   "source": [
    "Author: Moritz Ahl \n",
    "\n",
    "Date: January 2022\n",
    "\n",
    "Software: Windows 10, Python 3.9, Jupyter Notebook 6.4.5"
   ]
  },
  {
   "cell_type": "markdown",
   "id": "277d3553",
   "metadata": {},
   "source": [
    "This programm plots the three examples of non-linear activation function. For $z \\in \\mathbb{R}$ the functions are defined as follows:\n",
    "\n",
    "Logistic function\n",
    "\n",
    "\\begin{equation*}\n",
    "L: \\mathbb{R} \\longrightarrow \\lbrack 0, 1 \\rbrack, \\quad L(z) := \\frac{1}{1 + \\exp (-z)}.\n",
    "\\end{equation*}\n",
    "\n",
    "Hyperbolic tangent function \n",
    "\n",
    "\\begin{equation*}\n",
    "\\tanh: \\mathbb{R} \\longrightarrow \\lbrack -1, 1 \\rbrack, \\quad \\tanh(z) := \\frac{\\exp (x) - \\exp (-x)}{\\exp (x) + \\exp (-x)} = \\frac{\\exp (2x) - 1}{\\exp (2x) + 1}.\n",
    "\\end{equation*}\n",
    "\n",
    "Restricted linear unit\n",
    "\n",
    "\\begin{equation*}\n",
    "\\text{ReLU}: \\mathbb{R} \\longrightarrow \\lbrack -1, 1 \\rbrack, \\quad \\text{ReLU}(z) := \\max \\lbrace 0, z \\rbrace.\n",
    "\\end{equation*}"
   ]
  },
  {
   "cell_type": "code",
   "execution_count": 1,
   "id": "f8acb76d",
   "metadata": {},
   "outputs": [],
   "source": [
    "# import packages \n",
    "import numpy as np\n",
    "import matplotlib.pyplot as plt"
   ]
  },
  {
   "cell_type": "code",
   "execution_count": 2,
   "id": "8e54f4ee",
   "metadata": {},
   "outputs": [],
   "source": [
    "# define non-linear activations functions\n",
    "\n",
    "# logistic function\n",
    "def logistic(z):\n",
    "    val = 1. / (1 + np.exp(-z))\n",
    "    return val \n",
    "\n",
    "# hyperbolic tangent function\n",
    "def tanh(z):\n",
    "    a = np.exp(z) - np.exp(-z)\n",
    "    b = np.exp(z) + np.exp(-z)\n",
    "    return a/b\n",
    "\n",
    "# restricted linear unit \n",
    "def ReLU(z):\n",
    "    return np.maximum(0,z)\n"
   ]
  },
  {
   "cell_type": "code",
   "execution_count": 4,
   "id": "d085c823",
   "metadata": {},
   "outputs": [
    {
     "data": {
      "image/png": "[encoded data removed]",
      "text/plain": [
       "<Figure size 720x288 with 2 Axes>"
      ]
     },
     "metadata": {
      "needs_background": "light"
     },
     "output_type": "display_data"
    }
   ],
   "source": [
    "# plot activation functions \n",
    "\n",
    "# define z in range of plot from -10 to 10\n",
    "z = np.arange(-10,10.01,0.01)\n",
    "\n",
    "# create figure with two subplots\n",
    "fig, ax = plt.subplots(1,2,figsize=(10,4))\n",
    "\n",
    "# plot logistic and tanh in one subplot, since they are similar\n",
    "ax[0].plot(z,logistic(z),lw=2.5)\n",
    "ax[0].plot(z,tanh(z),lw=2.5)\n",
    "# plot lines at y=1 and y=-1 \n",
    "ax[0].plot(z,np.ones(len(z)),':',color='black',lw=1.5)\n",
    "ax[0].plot(z,-np.ones(len(z)),':',color='black',lw=1.5)\n",
    "\n",
    "# plot ReLU in second subplot and set axis\n",
    "ax[1].plot(z,ReLU(z),color='green',lw=2.5)\n",
    "ax[1].axis(ymin=-11,ymax=11)\n",
    "\n",
    "# call legends\n",
    "ax[0].legend(['Logistic','Tanh'])\n",
    "ax[1].legend(['ReLU'])\n",
    "\n",
    "# save figure \n",
    "plt.savefig('C:/Users/morit/Documents/Studium/Master-Arbeit 2021/Master Thesis TeX/figures/AFs.pdf')\n",
    "\n",
    "# show plot \n",
    "plt.show()"
   ]
  },
  {
   "cell_type": "code",
   "execution_count": null,
   "id": "f76eed30",
   "metadata": {},
   "outputs": [],
   "source": []
  }
 ],
 "metadata": {
  "kernelspec": {
   "display_name": "Python 3 (ipykernel)",
   "language": "python",
   "name": "python3"
  },
  "language_info": {
   "codemirror_mode": {
    "name": "ipython",
    "version": 3
   },
   "file_extension": ".py",
   "mimetype": "text/x-python",
   "name": "python",
   "nbconvert_exporter": "python",
   "pygments_lexer": "ipython3",
   "version": "3.9.7"
  }
 },
 "nbformat": 4,
 "nbformat_minor": 5
}
